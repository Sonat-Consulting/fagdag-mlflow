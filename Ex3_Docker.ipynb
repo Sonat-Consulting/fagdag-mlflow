{
 "cells": [
  {
   "cell_type": "markdown",
   "metadata": {},
   "source": [
    "# Dockerimage av modellen\n",
    "(Denne notebooken forutsetter at du har kjørt Ex1_Tracking)\n",
    "\n",
    "MLflow lar deg enkelt lage et dockerimage av modellen.  Dette dockerimaget kan brukes videre i mange forskjellige skyplattformer.\n",
    "\n",
    "f.eks:\n",
    "\n",
    "* Azure ML\n",
    "* Databricks\n",
    "* Amazon SageMaker\n",
    "* Google Cloud\n",
    "\n",
    "i terminalen:\n",
    "\n",
    "```bash\n",
    "mlflow models build-docker --model-uri \"models:/iris/1\" --name \"qs_mlops\"\n",
    "```\n",
    "\n",
    "For å teste dockerimaget lokalt:\n",
    "\n",
    "```bash\n",
    "docker run -p 5002:8080 qs_mlops\n",
    "```\n"
   ]
  },
  {
   "cell_type": "code",
   "execution_count": 1,
   "metadata": {},
   "outputs": [
    {
     "name": "stdout",
     "output_type": "stream",
     "text": [
      "{\"predictions\": [1]}\n"
     ]
    }
   ],
   "source": [
    "import requests\n",
    "\n",
    "url = 'http://localhost:5002/invocations'\n",
    "headers = {'Content-Type': 'application/json'}\n",
    "data = {\n",
    "    \"dataframe_split\": {\n",
    "         \"columns\": [\n",
    "            \"sepal length (cm)\",\t\"sepal width (cm)\", \t\"petal length (cm)\", \t\"petal width (cm)\"\n",
    "        ],\n",
    "        \n",
    "        \"data\": [\n",
    "            [6.1,2.8,4.7,1.2]\n",
    "        ]\n",
    "    }\n",
    "}\n",
    "\n",
    "response = requests.post(url, json=data, headers=headers)\n",
    "print(response.text)"
   ]
  },
  {
   "cell_type": "markdown",
   "metadata": {},
   "source": []
  }
 ],
 "metadata": {
  "kernelspec": {
   "display_name": ".venv",
   "language": "python",
   "name": "python3"
  },
  "language_info": {
   "codemirror_mode": {
    "name": "ipython",
    "version": 3
   },
   "file_extension": ".py",
   "mimetype": "text/x-python",
   "name": "python",
   "nbconvert_exporter": "python",
   "pygments_lexer": "ipython3",
   "version": "3.11.7"
  }
 },
 "nbformat": 4,
 "nbformat_minor": 2
}
