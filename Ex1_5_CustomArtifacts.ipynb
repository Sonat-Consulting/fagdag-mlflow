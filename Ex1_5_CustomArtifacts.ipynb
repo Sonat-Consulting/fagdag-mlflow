{
 "cells": [
  {
   "cell_type": "code",
   "execution_count": null,
   "metadata": {},
   "outputs": [],
   "source": [
    "import pandas as pd\n",
    "import seaborn as sns\n",
    "import matplotlib.pyplot as plt\n",
    "import mlflow\n",
    "import mlflow.pyfunc\n",
    "\n",
    "\n",
    "df = pd.read_csv(\n",
    "    \"https://raw.githubusercontent.com/mlflow/mlflow/master/tests/datasets/winequality-white.csv\",\n",
    "    sep=\";\",\n",
    ")\n",
    "\n",
    "# Start an MLflow run\n",
    "mlflow.set_experiment(\"Wine Quality Visualization\")\n",
    "with mlflow.start_run():\n",
    "    # Plot histograms for all features\n",
    "    histograms = df.hist(figsize=(10, 10), bins=20)\n",
    "    plt.tight_layout()\n",
    "    plt.suptitle(\"Histogram of Wine Quality Features\")\n",
    "    plt.subplots_adjust(top=0.95)\n",
    "    \n",
    "    # Save the plot and log it to MLflow\n",
    "    hist_plot_path = \"histograms.png\"\n",
    "    plt.savefig(hist_plot_path)\n",
    "    mlflow.log_artifact(hist_plot_path)\n",
    "\n",
    "    # Pair plot of the dataset\n",
    "    pair_plot = sns.pairplot(df, hue=\"quality\")\n",
    "    pair_plot.fig.suptitle(\"Pair Plot of Wine Quality Dataset\", y=1.02)\n",
    "    \n",
    "    # Save the pair plot and log it to MLflow\n",
    "    pair_plot_path = \"pair_plot.png\"\n",
    "    pair_plot.savefig(pair_plot_path)\n",
    "    mlflow.log_artifact(pair_plot_path)\n",
    "\n",
    "    # Scatter plot of two selected features with quality as hue\n",
    "    scatter_plot = sns.scatterplot(data=df, x=\"alcohol\", y=\"density\", hue=\"quality\", palette=\"coolwarm\")\n",
    "    plt.title(\"Scatter Plot of Alcohol vs Density\")\n",
    "    \n",
    "    # Save the scatter plot and log it to MLflow\n",
    "    scatter_plot_path = \"scatter_plot.png\"\n",
    "    plt.savefig(scatter_plot_path)\n",
    "    mlflow.log_artifact(scatter_plot_path)\n",
    "\n",
    "    # Set tags and log parameters if needed\n",
    "    mlflow.set_tag(\"Visualization\", \"Wine Quality Dataset\")\n",
    "    mlflow.log_param(\"data_shape\", df.shape)\n",
    "\n",
    "print(\"Visualizations logged to MLflow.\")\n"
   ]
  }
 ],
 "metadata": {
  "kernelspec": {
   "display_name": ".venv",
   "language": "python",
   "name": "python3"
  },
  "language_info": {
   "codemirror_mode": {
    "name": "ipython",
    "version": 3
   },
   "file_extension": ".py",
   "mimetype": "text/x-python",
   "name": "python",
   "nbconvert_exporter": "python",
   "pygments_lexer": "ipython3",
   "version": "3.11.7"
  }
 },
 "nbformat": 4,
 "nbformat_minor": 2
}
